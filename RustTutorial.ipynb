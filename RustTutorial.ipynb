{
 "cells": [
  {
   "cell_type": "markdown",
   "id": "92075003",
   "metadata": {},
   "source": [
    "# Tutorial Rust\n"
   ]
  },
  {
   "cell_type": "markdown",
   "id": "609ccce1",
   "metadata": {},
   "source": [
    "## Estructura basica de un programa\n",
    "- Se usa `use` para para importar módulos y estructuras desde otras dependencias externas o desde el propio proyecto.\n",
    "\n",
    "- Para dependencias externas se usa [crates.io](https://www.crates.io) que es el registro de paquetes para rust, como npm para node.js y pip para python."
   ]
  },
  {
   "cell_type": "code",
   "execution_count": 5,
   "id": "1c2e8836",
   "metadata": {},
   "outputs": [],
   "source": [
    "// Declaraciones de dependencias externas (crates) y módulos\n",
    "use crate_name::module_name;\n",
    "\n",
    "// Definición de módulos y estructuras de datos\n",
    "mod module_name {\n",
    "    // Definiciones de funciones, structs, enums, etc.\n",
    "    // ...\n",
    "\n",
    "    // Función principal\n",
    "    pub fn main() {\n",
    "        // Código principal del programa\n",
    "        // ...\n",
    "    }\n",
    "}\n",
    "\n",
    "// O, en el caso de un programa simple sin módulos\n",
    "\n",
    "fn main() {\n",
    "    // Código principal del programa\n",
    "    // ...\n",
    "}"
   ]
  },
  {
   "cell_type": "markdown",
   "id": "472aaab9",
   "metadata": {},
   "source": [
    "## Hello World\n",
    "En este Notebook de Jupyter estamos usando [Evcxr Jupyter](https://github.com/evcxr/evcxr/tree/main/evcxr_jupyter) un kernel para rust por lo que no tenemos necesidad de crear un main. Este seria nuestro primer programa en Rust!<img src=\"https://rustacean.net/assets/rustacean-flat-happy.svg\" width=\"80\" height=\"80\">"
   ]
  },
  {
   "cell_type": "code",
   "execution_count": 7,
   "id": "5931cc1e",
   "metadata": {},
   "outputs": [
    {
     "name": "stdout",
     "output_type": "stream",
     "text": [
      "Hello World!\n"
     ]
    }
   ],
   "source": [
    "println!(\"Hello World!\");"
   ]
  },
  {
   "cell_type": "markdown",
   "id": "3d908568",
   "metadata": {},
   "source": [
    "## Conceptos Basicos\n",
    "\n",
    "### Comentarios\n",
    "`// comentario de linea que va hasta el final de la linea`\n",
    "\n",
    "`/* comentario de bloque que van hasta el delimitador de cierre */`\n",
    "\n",
    "### Formateo\n",
    "La impresión se maneja mediante una serie de `macros` definidas en `std::fmt`, algunas de las cuales incluyen:\n",
    "\n",
    "- `format!`: escribe texto formateado a `String`. \n",
    "- `print!`: ¡igual que `format!` pero el texto se imprime en la consola (io::stdout). \n",
    "- `println!`: igual que `print!` pero se agrega una nueva línea.\n"
   ]
  },
  {
   "cell_type": "code",
   "execution_count": 10,
   "id": "4b91d9c4",
   "metadata": {},
   "outputs": [
    {
     "name": "stdout",
     "output_type": "stream",
     "text": [
      "31 days\n",
      "Alice, this is Bob. Bob, this is Alice\n",
      "the quick brown fox jumps over the lazy dog\n",
      "Base 10:               69420\n",
      "Base 2 (binario):      10000111100101100\n",
      "Base 8 (octal):        207454\n",
      "Base 16 (hexadecimal): 10f2c\n"
     ]
    }
   ],
   "source": [
    "// {} va a reemplazar automaticamente cualquier argumento.\n",
    "println!(\"{} days\", 31);\n",
    "\n",
    "\n",
    "// Poner un enteredo dentro de {} nos permite determinar \n",
    "// por que argumento sera reemplazado, los armentos empiezan en 0\n",
    "println!(\"{0}, this is {1}. {1}, this is {0}\", \"Alice\", \"Bob\");\n",
    "\n",
    "// los argumentos pueden tener nombres.\n",
    "println!(\"{subject} {verb} {object}\",\n",
    "         object=\"the lazy dog\",\n",
    "         subject=\"the quick brown fox\",\n",
    "         verb=\"jumps over\");\n",
    "\n",
    "// Se pueden invocar diferentes formatos especificando el carácter de formato\n",
    "// despues de `:`.\n",
    "println!(\"Base 10:               {}\",   69420); // 69420\n",
    "println!(\"Base 2 (binario):      {:b}\", 69420); // 10000111100101100\n",
    "println!(\"Base 8 (octal):        {:o}\", 69420); // 207454\n",
    "println!(\"Base 16 (hexadecimal): {:x}\", 69420); // 10f2c"
   ]
  },
  {
   "cell_type": "markdown",
   "id": "8ec7f171",
   "metadata": {},
   "source": [
    "\n",
    "`macros` es una característica del lenguaje conocida como `metaprogramming` que te permite escribir codigo que genera más código durante el tiempo de compilación.\n",
    "\n",
    "`!` te permite diferenciar entre una funcion y un macro. \n",
    "\n",
    "Que pasa si no usamos `!` en println? <img src=\"https://doc.rust-lang.org/book/img/ferris/does_not_compile.svg\" width=\"60\" height=\"60\">"
   ]
  },
  {
   "cell_type": "code",
   "execution_count": 11,
   "id": "8a9f1020",
   "metadata": {},
   "outputs": [
    {
     "ename": "Error",
     "evalue": "expected function, found macro `println`",
     "output_type": "error",
     "traceback": [
      "\u001b[31m[E0423] Error:\u001b[0m expected function, found macro `println`",
      "   \u001b[38;5;246m╭\u001b[0m\u001b[38;5;246m─\u001b[0m\u001b[38;5;246m[\u001b[0mcommand_11:1:1\u001b[38;5;246m]\u001b[0m",
      "   \u001b[38;5;246m│\u001b[0m",
      " \u001b[38;5;246m1 │\u001b[0m \u001b[38;5;54mp\u001b[0m\u001b[38;5;54mr\u001b[0m\u001b[38;5;54mi\u001b[0m\u001b[38;5;54mn\u001b[0m\u001b[38;5;54mt\u001b[0m\u001b[38;5;54ml\u001b[0m\u001b[38;5;54mn\u001b[0m\u001b[38;5;249m(\u001b[0m\u001b[38;5;249m\"\u001b[0m\u001b[38;5;249m{\u001b[0m\u001b[38;5;249m}\u001b[0m\u001b[38;5;249m \u001b[0m\u001b[38;5;249md\u001b[0m\u001b[38;5;249ma\u001b[0m\u001b[38;5;249my\u001b[0m\u001b[38;5;249ms\u001b[0m\u001b[38;5;249m\"\u001b[0m\u001b[38;5;249m,\u001b[0m\u001b[38;5;249m \u001b[0m\u001b[38;5;249m3\u001b[0m\u001b[38;5;249m1\u001b[0m\u001b[38;5;249m)\u001b[0m\u001b[38;5;249m;\u001b[0m",
      " \u001b[38;5;240m  │\u001b[0m \u001b[38;5;54m─\u001b[0m\u001b[38;5;54m─\u001b[0m\u001b[38;5;54m─\u001b[0m\u001b[38;5;54m┬\u001b[0m\u001b[38;5;54m─\u001b[0m\u001b[38;5;54m─\u001b[0m\u001b[38;5;54m─\u001b[0m\u001b[38;5;100m│\u001b[0m ",
      " \u001b[38;5;240m  │\u001b[0m    \u001b[38;5;54m╰\u001b[0m\u001b[38;5;54m─\u001b[0m\u001b[38;5;54m─\u001b[0m\u001b[38;5;54m─\u001b[0m\u001b[38;5;54m─\u001b[0m\u001b[38;5;54m─\u001b[0m not a function",
      " \u001b[38;5;240m  │\u001b[0m        \u001b[38;5;100m│\u001b[0m ",
      " \u001b[38;5;240m  │\u001b[0m        \u001b[38;5;100m╰\u001b[0m\u001b[38;5;100m─\u001b[0m help: use `!` to invoke the macro: `!`",
      "\u001b[38;5;246m───╯\u001b[0m"
     ]
    }
   ],
   "source": [
    "println(\"{} days\", 31);"
   ]
  },
  {
   "cell_type": "markdown",
   "id": "cb5567af",
   "metadata": {},
   "source": [
    "### Variables\n",
    "Para crear una variable en Rust podemos usar la palabra clave `let`.\n",
    "- En Rust las variables que creamos son inmutables por defecto. Cuyo valor no puede ser cambiado después de ser inicializado."
   ]
  },
  {
   "cell_type": "code",
   "execution_count": 14,
   "id": "ea83d327",
   "metadata": {},
   "outputs": [
    {
     "ename": "Error",
     "evalue": "value assigned to `name` is never read",
     "output_type": "error",
     "traceback": [
      "\u001b[31m[unused_assignments] Error:\u001b[0m value assigned to `name` is never read",
      "   \u001b[38;5;246m╭\u001b[0m\u001b[38;5;246m─\u001b[0m\u001b[38;5;246m[\u001b[0mcommand_14:1:1\u001b[38;5;246m]\u001b[0m",
      "   \u001b[38;5;246m│\u001b[0m",
      " \u001b[38;5;246m1 │\u001b[0m \u001b[38;5;249ml\u001b[0m\u001b[38;5;249me\u001b[0m\u001b[38;5;249mt\u001b[0m\u001b[38;5;249m \u001b[0m\u001b[38;5;54mn\u001b[0m\u001b[38;5;54ma\u001b[0m\u001b[38;5;54mm\u001b[0m\u001b[38;5;54me\u001b[0m\u001b[38;5;249m \u001b[0m\u001b[38;5;249m=\u001b[0m\u001b[38;5;249m \u001b[0m\u001b[38;5;249m\"\u001b[0m\u001b[38;5;249mP\u001b[0m\u001b[38;5;249mr\u001b[0m\u001b[38;5;249mu\u001b[0m\u001b[38;5;249me\u001b[0m\u001b[38;5;249mb\u001b[0m\u001b[38;5;249ma\u001b[0m\u001b[38;5;249m\"\u001b[0m\u001b[38;5;249m;\u001b[0m",
      " \u001b[38;5;240m  │\u001b[0m     \u001b[38;5;54m─\u001b[0m\u001b[38;5;54m─\u001b[0m\u001b[38;5;54m┬\u001b[0m\u001b[38;5;54m─\u001b[0m  ",
      " \u001b[38;5;240m  │\u001b[0m       \u001b[38;5;54m╰\u001b[0m\u001b[38;5;54m─\u001b[0m\u001b[38;5;54m─\u001b[0m\u001b[38;5;54m─\u001b[0m warning: value assigned to `name` is never read",
      "\u001b[38;5;246m───╯\u001b[0m"
     ]
    },
    {
     "ename": "Error",
     "evalue": "cannot assign twice to immutable variable `name`",
     "output_type": "error",
     "traceback": [
      "\u001b[31m[E0384] Error:\u001b[0m cannot assign twice to immutable variable `name`",
      "   \u001b[38;5;246m╭\u001b[0m\u001b[38;5;246m─\u001b[0m\u001b[38;5;246m[\u001b[0mcommand_14:1:1\u001b[38;5;246m]\u001b[0m",
      "   \u001b[38;5;246m│\u001b[0m",
      " \u001b[38;5;246m1 │\u001b[0m \u001b[38;5;249ml\u001b[0m\u001b[38;5;249me\u001b[0m\u001b[38;5;249mt\u001b[0m\u001b[38;5;249m \u001b[0m\u001b[38;5;54mn\u001b[0m\u001b[38;5;54ma\u001b[0m\u001b[38;5;54mm\u001b[0m\u001b[38;5;54me\u001b[0m\u001b[38;5;249m \u001b[0m\u001b[38;5;249m=\u001b[0m\u001b[38;5;249m \u001b[0m\u001b[38;5;249m\"\u001b[0m\u001b[38;5;249mP\u001b[0m\u001b[38;5;249mr\u001b[0m\u001b[38;5;249mu\u001b[0m\u001b[38;5;249me\u001b[0m\u001b[38;5;249mb\u001b[0m\u001b[38;5;249ma\u001b[0m\u001b[38;5;249m\"\u001b[0m\u001b[38;5;249m;\u001b[0m",
      " \u001b[38;5;240m  │\u001b[0m     \u001b[38;5;54m─\u001b[0m\u001b[38;5;54m─\u001b[0m\u001b[38;5;54m┬\u001b[0m\u001b[38;5;54m─\u001b[0m  ",
      " \u001b[38;5;240m  │\u001b[0m       \u001b[38;5;54m╰\u001b[0m\u001b[38;5;54m─\u001b[0m\u001b[38;5;54m─\u001b[0m\u001b[38;5;54m─\u001b[0m first assignment to `name`",
      " \u001b[38;5;240m  │\u001b[0m       \u001b[38;5;68m│\u001b[0m   ",
      " \u001b[38;5;240m  │\u001b[0m       \u001b[38;5;68m╰\u001b[0m\u001b[38;5;68m─\u001b[0m\u001b[38;5;68m─\u001b[0m\u001b[38;5;68m─\u001b[0m help: consider making this binding mutable: `mut name`",
      " \u001b[38;5;246m2 │\u001b[0m \u001b[38;5;100mn\u001b[0m\u001b[38;5;100ma\u001b[0m\u001b[38;5;100mm\u001b[0m\u001b[38;5;100me\u001b[0m\u001b[38;5;100m \u001b[0m\u001b[38;5;100m=\u001b[0m\u001b[38;5;100m \u001b[0m\u001b[38;5;100m\"\u001b[0m\u001b[38;5;100mM\u001b[0m\u001b[38;5;100mu\u001b[0m\u001b[38;5;100mt\u001b[0m\u001b[38;5;100ma\u001b[0m\u001b[38;5;100mb\u001b[0m\u001b[38;5;100mi\u001b[0m\u001b[38;5;100ml\u001b[0m\u001b[38;5;100mi\u001b[0m\u001b[38;5;100md\u001b[0m\u001b[38;5;100ma\u001b[0m\u001b[38;5;100md\u001b[0m\u001b[38;5;100m\"\u001b[0m\u001b[38;5;249m;\u001b[0m",
      " \u001b[38;5;240m  │\u001b[0m \u001b[38;5;100m─\u001b[0m\u001b[38;5;100m─\u001b[0m\u001b[38;5;100m─\u001b[0m\u001b[38;5;100m─\u001b[0m\u001b[38;5;100m─\u001b[0m\u001b[38;5;100m─\u001b[0m\u001b[38;5;100m─\u001b[0m\u001b[38;5;100m─\u001b[0m\u001b[38;5;100m─\u001b[0m\u001b[38;5;100m─\u001b[0m\u001b[38;5;100m┬\u001b[0m\u001b[38;5;100m─\u001b[0m\u001b[38;5;100m─\u001b[0m\u001b[38;5;100m─\u001b[0m\u001b[38;5;100m─\u001b[0m\u001b[38;5;100m─\u001b[0m\u001b[38;5;100m─\u001b[0m\u001b[38;5;100m─\u001b[0m\u001b[38;5;100m─\u001b[0m\u001b[38;5;100m─\u001b[0m  ",
      " \u001b[38;5;240m  │\u001b[0m           \u001b[38;5;100m╰\u001b[0m\u001b[38;5;100m─\u001b[0m\u001b[38;5;100m─\u001b[0m\u001b[38;5;100m─\u001b[0m\u001b[38;5;100m─\u001b[0m\u001b[38;5;100m─\u001b[0m\u001b[38;5;100m─\u001b[0m\u001b[38;5;100m─\u001b[0m\u001b[38;5;100m─\u001b[0m\u001b[38;5;100m─\u001b[0m\u001b[38;5;100m─\u001b[0m\u001b[38;5;100m─\u001b[0m cannot assign twice to immutable variable",
      " \u001b[38;5;240m  │\u001b[0m ",
      " \u001b[38;5;240m  │\u001b[0m \u001b[38;5;115mNote\u001b[0m: You can change an existing variable to mutable like: `let mut x = x;`",
      "\u001b[38;5;246m───╯\u001b[0m"
     ]
    }
   ],
   "source": [
    "let name = \"Prueba\";\n",
    "name = \"Mutabilidad\";"
   ]
  },
  {
   "cell_type": "markdown",
   "id": "b022cd96",
   "metadata": {},
   "source": [
    "Como el mensaje de error ya nos indica podemos añadir la palabra clave `mut` para que la variable sea mutable.\n",
    "> Dado que rust es de tipado estático y fuerte no puedes cambiar el tipo de dato de una variable al reasignarla.<img src=\"https://doc.rust-lang.org/book/img/ferris/not_desired_behavior.svg\" width=\"80\" height=\"80\">"
   ]
  },
  {
   "cell_type": "code",
   "execution_count": 24,
   "id": "b00fa120",
   "metadata": {},
   "outputs": [
    {
     "name": "stdout",
     "output_type": "stream",
     "text": [
      "Mutabilidad\n"
     ]
    }
   ],
   "source": [
    "let mut name = \"Prueba\";\n",
    "name = \"Mutabilidad\";\n",
    "println!(\"{}\", name);"
   ]
  },
  {
   "cell_type": "markdown",
   "id": "b6e54538",
   "metadata": {},
   "source": [
    "## Tipos de datos\n",
    "Tenga en cuenta que Rust es un lenguaje de tipo estático, lo que significa que debe conocer los tipos de todas las variables en el momento de la compilación. El compilador generalmente puede inferir qué tipo queremos usar en función del valor y cómo lo usamos.\n",
    "\n",
    "Como hemos visto en ejemplos anteriores, a veces no es necesario indicar el tipo ya que Rust lo puede inferir. Pero en otros casos sí es necesario.\n",
    "\n",
    "### Tipos primitivos escalares\n",
    "- Enteros con signo: `i8`, `i16`, `i32`, `i64`, `i128`\n",
    "- Enteros sin signo: `u8`, `u16`, `u32`, `u64`, `u128`\n",
    "- Punto flotante: `f32`, `f64` \n",
    "- `char` Valores escalares Unicode como 'a' , 'α' y '∞' (4 bytes cada uno) \n",
    "- `bool` `verdadero` o `falso`"
   ]
  },
  {
   "cell_type": "code",
   "execution_count": 40,
   "id": "beb6f201",
   "metadata": {},
   "outputs": [],
   "source": [
    "// Entero\n",
    "let number = 10;\n",
    "let number: u8 = 10;\n",
    "\n",
    "// Flotante\n",
    "let number = 10.5;\n",
    "let number: f32 = 10.5;\n",
    "\n",
    "// Boleano\n",
    "let is_active = true;\n",
    "let is_greater: bool = 10 > 5;\n",
    "\n",
    "// Cararteres\n",
    "let letter = 'a';\n",
    "let letter: char = 'a';"
   ]
  },
  {
   "cell_type": "markdown",
   "id": "4bdd3fa1",
   "metadata": {},
   "source": [
    "### Tipos primitivos compuestos\n",
    "\n",
    "- `tuple`: Una tupla es una forma general de agrupar una cantidad de valores con una variedad de tipos en un tipo compuesto. Las tuplas tienen una longitud fija: una vez declaradas, no pueden aumentar ni reducir su tamaño. Creamos una tupla escribiendo una lista de valores separados por comas entre paréntesis `()`. Cada posición en la tupla tiene un tipo y los tipos de los diferentes valores en la tupla no tienen por qué ser los mismos.\n",
    "- `array`: A diferencia de una tupla, cada elemento de un array debe ser del mismo tipo. A diferencia de los array en otros lenguajes, los array en Rust tienen una longitud fija. Escribimos los valores en un array como una lista separada por comas entre corchetes `[]` "
   ]
  },
  {
   "cell_type": "code",
   "execution_count": 51,
   "id": "1eccf778",
   "metadata": {},
   "outputs": [
    {
     "name": "stdout",
     "output_type": "stream",
     "text": [
      "The tuple value of y is: 6.4\n",
      "The tuple value of five_hundred is: 500\n",
      "The value of array a in position 0 is 1\n"
     ]
    }
   ],
   "source": [
    "// tuple\n",
    "let tup: (i32, f64, u8) = (500, 6.4, 1);\n",
    "let tup2 = (500, 6.4, 1);\n",
    "\n",
    "//destruturar tupla\n",
    "let (x, y, z) = tup;\n",
    "println!(\"The tuple value of y is: {y}\");\n",
    "\n",
    "// acceder elemento con \".\" y el indice\n",
    "let five_hundred = tup2.0;\n",
    "println!(\"The tuple value of five_hundred is: {five_hundred}\");\n",
    "\n",
    "// array\n",
    "\n",
    "let a = [1, 2, 3, 4, 5];\n",
    "let b: [i32; 5] = [1, 2, 3, 4, 5];\n",
    "let first = a[0];\n",
    "let second = a[1];\n",
    "println!(\"The value of array a in position 0 is {first}\");\n"
   ]
  },
  {
   "cell_type": "markdown",
   "id": "c144c34d",
   "metadata": {},
   "source": [
    "### Tipos Personalizados\n",
    "Los tipos de datos personalizados de Rust se forman principalmente a través de dos palabras clave: \n",
    "- `struct`: define una estructura \n",
    "- `enum`: define una enumeración. \n",
    "\n",
    "Las constantes también se pueden crear mediante las palabras clave `const` y `static`."
   ]
  },
  {
   "cell_type": "markdown",
   "id": "b5851247",
   "metadata": {},
   "source": [
    "### Struct"
   ]
  },
  {
   "cell_type": "code",
   "execution_count": 11,
   "id": "767829f8",
   "metadata": {},
   "outputs": [
    {
     "name": "stdout",
     "output_type": "stream",
     "text": [
      "Person { name: \"Peter\", age: 27 }\n",
      "point coordinates: (10.3, 0.4)\n",
      "pair contains 1 and 0.1\n"
     ]
    }
   ],
   "source": [
    "#[derive(Debug)]\n",
    "struct Person {\n",
    "    name: String,\n",
    "    age: u8,\n",
    "}\n",
    "struct Point {\n",
    "    x: f32,\n",
    "    y: f32,\n",
    "}\n",
    "struct Pair(i32, f32);\n",
    "\n",
    "let name = String::from(\"Peter\");\n",
    "let age = 27;\n",
    "let peter = Person { name, age };\n",
    "\n",
    "\n",
    "println!(\"{:?}\", peter);\n",
    "\n",
    "let point: Point = Point { x: 10.3, y: 0.4 };\n",
    "\n",
    "println!(\"point coordinates: ({}, {})\", point.x, point.y);\n",
    "\n",
    "let pair = Pair(1, 0.1);\n",
    "println!(\"pair contains {:?} and {:?}\", pair.0, pair.1);"
   ]
  },
  {
   "cell_type": "markdown",
   "id": "d8b3babd",
   "metadata": {},
   "source": [
    "### Enums\n",
    "los enums en Rust son útiles para definir tipos de datos que pueden representar un conjunto finito y conocido de valores posibles, lo que facilita la gestión de casos específicos y la garantía de la integridad y seguridad del código.\n",
    "\n",
    "Cualquier variante que sea válida como `struct` también lo es en una `enum`."
   ]
  },
  {
   "cell_type": "code",
   "execution_count": 15,
   "id": "6e64054b",
   "metadata": {},
   "outputs": [
    {
     "name": "stdout",
     "output_type": "stream",
     "text": [
      "Es un euro\n"
     ]
    }
   ],
   "source": [
    "enum Moneda {\n",
    "    Euro,\n",
    "    Dolar,\n",
    "    Yen,\n",
    "}\n",
    "\n",
    "let mi_moneda = Moneda::Euro;\n",
    "\n",
    "match mi_moneda {\n",
    "    Moneda::Euro => println!(\"Es un euro\"),\n",
    "    Moneda::Dolar => println!(\"Es un dólar\"),\n",
    "    Moneda::Yen => println!(\"Es un yen\"),};"
   ]
  },
  {
   "cell_type": "markdown",
   "id": "d779cf47",
   "metadata": {},
   "source": [
    "### Constantes\n",
    "Rust tiene dos tipos diferentes de constantes que se pueden declarar en cualquier ámbito, incluido el global. Ambos requieren una anotación de tipo explícita: \n",
    "- `const`: un valor que no se puede cambiar (el caso común). \n",
    "- `static`: una variable posiblemente mutable con 'vida útil estática'."
   ]
  },
  {
   "cell_type": "code",
   "execution_count": 18,
   "id": "abc9bdad",
   "metadata": {},
   "outputs": [
    {
     "name": "stdout",
     "output_type": "stream",
     "text": [
      "This is Rust\n",
      "The threshold is 10\n"
     ]
    }
   ],
   "source": [
    "static LANGUAGE: &str = \"Rust\";\n",
    "const THRESHOLD: i32 = 10;\n",
    "fn main() {\n",
    "    println!(\"This is {}\", LANGUAGE);\n",
    "    println!(\"The threshold is {}\", THRESHOLD);\n",
    "}\n",
    "main();"
   ]
  },
  {
   "cell_type": "markdown",
   "id": "3be96700",
   "metadata": {},
   "source": [
    "## Estructuras de Control\n",
    "\n",
    "### if/else\n",
    "- if-else es similar a otros lenguajes. A diferencia de muchas de ellas, la condición booleana no necesita estar entre paréntesis y cada condición va seguida de un bloque."
   ]
  },
  {
   "cell_type": "code",
   "execution_count": 24,
   "id": "4e937258",
   "metadata": {},
   "outputs": [
    {
     "name": "stdout",
     "output_type": "stream",
     "text": [
      "5 is positive, and is a small number, increase ten-fold\n",
      "5 -> 50\n"
     ]
    }
   ],
   "source": [
    "let n = 5;\n",
    "\n",
    "if n < 0 {\n",
    "    print!(\"{} is negative\", n);\n",
    "} else if n > 0 {\n",
    "    print!(\"{} is positive\", n);\n",
    "} else {\n",
    "    print!(\"{} is zero\", n);\n",
    "}\n",
    "\n",
    "let big_n =\n",
    "if n < 10 && n > -10 {\n",
    "    println!(\", and is a small number, increase ten-fold\");\n",
    "    // Esta expresion retorna un `i32`.\n",
    "    10 * n\n",
    "} else {\n",
    "    println!(\", and is a big number, halve the number\");\n",
    "    // Esta expresion debe retornar un `i32` tambien.\n",
    "    n / 2\n",
    "};\n",
    "\n",
    "println!(\"{} -> {}\", n, big_n);\n"
   ]
  },
  {
   "cell_type": "markdown",
   "id": "7bacd37d",
   "metadata": {},
   "source": [
    "### loop\n",
    "Rust proporciona una palabra clave de `loop` para indicar un bucle infinito. La declaración `break` se puede usar para salir de un bucle en cualquier momento, mientras que la declaración `continue` se puede usar para omitir el resto de la iteración y comenzar una nueva."
   ]
  },
  {
   "cell_type": "code",
   "execution_count": 27,
   "id": "39f0ca81",
   "metadata": {},
   "outputs": [
    {
     "name": "stdout",
     "output_type": "stream",
     "text": [
      "Let's count until infinity!\n",
      "1\n",
      "2\n",
      "three\n",
      "4\n",
      "5\n",
      "OK, that's enough\n"
     ]
    }
   ],
   "source": [
    "let mut count = 0u32;\n",
    "\n",
    "println!(\"Let's count until infinity!\");\n",
    "\n",
    "// Infinite loop\n",
    "loop {\n",
    "  count += 1;\n",
    "\n",
    "  if count == 3 {\n",
    "      println!(\"three\");\n",
    "\n",
    "      // Skip the rest of this iteration\n",
    "      continue;\n",
    "  }\n",
    "\n",
    "  println!(\"{}\", count);\n",
    "\n",
    "  if count == 5 {\n",
    "      println!(\"OK, that's enough\");\n",
    "\n",
    "      // Exit this loop\n",
    "      break;\n",
    "  }\n",
    "};"
   ]
  },
  {
   "cell_type": "markdown",
   "id": "bb99f3ca",
   "metadata": {},
   "source": [
    "### while \n",
    "La palabra clave `while` se puede utilizar para ejecutar un bucle mientras una condición sea verdadera."
   ]
  },
  {
   "cell_type": "code",
   "execution_count": 30,
   "id": "5ee64e14",
   "metadata": {},
   "outputs": [
    {
     "name": "stdout",
     "output_type": "stream",
     "text": [
      "1\n",
      "2\n",
      "fizz\n",
      "4\n",
      "buzz\n",
      "fizz\n",
      "7\n"
     ]
    }
   ],
   "source": [
    "let mut n = 1;\n",
    "\n",
    "// Loop while `n` is less than 101\n",
    "while n < 8 {\n",
    "  if n % 15 == 0 {\n",
    "      println!(\"fizzbuzz\");\n",
    "  } else if n % 3 == 0 {\n",
    "      println!(\"fizz\");\n",
    "  } else if n % 5 == 0 {\n",
    "      println!(\"buzz\");\n",
    "  } else {\n",
    "      println!(\"{}\", n);\n",
    "  }\n",
    "\n",
    "  // Increment counter\n",
    "  n += 1;\n",
    "};"
   ]
  },
  {
   "cell_type": "markdown",
   "id": "4a2008dd",
   "metadata": {},
   "source": [
    "### For loops\n",
    "La construcción `for in` se puede utilizar para iterar a través de un iterador. Una de las formas más sencillas de crear un iterador es utilizar la notación de rango `a..b`. Esto produce valores desde a (inclusive) hasta b (exclusivo) en pasos de uno."
   ]
  },
  {
   "cell_type": "code",
   "execution_count": 34,
   "id": "3c261ee9",
   "metadata": {},
   "outputs": [
    {
     "name": "stdout",
     "output_type": "stream",
     "text": [
      "1\n",
      "2\n",
      "fizz\n",
      "4\n",
      "buzz\n",
      "fizz\n",
      "7\n",
      "8\n"
     ]
    }
   ],
   "source": [
    "for n in 1..9 {\n",
    "  if n % 15 == 0 {\n",
    "      println!(\"fizzbuzz\");\n",
    "  } else if n % 3 == 0 {\n",
    "      println!(\"fizz\");\n",
    "  } else if n % 5 == 0 {\n",
    "      println!(\"buzz\");\n",
    "  } else {\n",
    "      println!(\"{}\", n);\n",
    "  }\n",
    "};"
   ]
  },
  {
   "cell_type": "markdown",
   "id": "746b3e56",
   "metadata": {},
   "source": [
    "Alternativamente, `a..=b` se puede utilizar para un rango que sea inclusivo en ambos extremos."
   ]
  },
  {
   "cell_type": "code",
   "execution_count": 36,
   "id": "a4e25188",
   "metadata": {},
   "outputs": [
    {
     "name": "stdout",
     "output_type": "stream",
     "text": [
      "1\n",
      "2\n",
      "fizz\n",
      "4\n",
      "buzz\n",
      "fizz\n",
      "7\n",
      "8\n"
     ]
    }
   ],
   "source": [
    "for n in 1..=8 {\n",
    "  if n % 15 == 0 {\n",
    "      println!(\"fizzbuzz\");\n",
    "  } else if n % 3 == 0 {\n",
    "      println!(\"fizz\");\n",
    "  } else if n % 5 == 0 {\n",
    "      println!(\"buzz\");\n",
    "  } else {\n",
    "      println!(\"{}\", n);\n",
    "  }\n",
    "};"
   ]
  },
  {
   "cell_type": "markdown",
   "id": "9b0043bb",
   "metadata": {},
   "source": [
    "### match\n",
    "Rust proporciona coincidencia de patrones a través de la palabra clave `match`, que puede usarse como un `switch` de C. Se evalúa la primer coincidencia y se deben cubrir todos los valores posibles."
   ]
  },
  {
   "cell_type": "code",
   "execution_count": 39,
   "id": "44bf53ae",
   "metadata": {},
   "outputs": [
    {
     "name": "stdout",
     "output_type": "stream",
     "text": [
      "Tell me about 13\n",
      "A teen\n",
      "true -> 1\n"
     ]
    }
   ],
   "source": [
    "let number = 13;\n",
    "\n",
    "println!(\"Tell me about {}\", number);\n",
    "match number {\n",
    "    // Match a single value\n",
    "    1 => println!(\"One!\"),\n",
    "    \n",
    "    // Match several values\n",
    "    2 | 3 | 5 | 7 | 11 => println!(\"This is a prime\"),\n",
    "    \n",
    "    // Match an inclusive range\n",
    "    13..=19 => println!(\"A teen\"),\n",
    "    \n",
    "    // Handle the rest of cases\n",
    "    _ => println!(\"Ain't special\"),\n",
    "}\n",
    "\n",
    "let boolean = true;\n",
    "// Match is an expression too\n",
    "let binary = match boolean {\n",
    "    // The arms of a match must cover all the possible values\n",
    "    false => 0,\n",
    "    true => 1,\n",
    "};\n",
    "\n",
    "println!(\"{} -> {}\", boolean, binary);\n"
   ]
  },
  {
   "cell_type": "markdown",
   "id": "abc9bfb4",
   "metadata": {},
   "source": [
    "## Funciones\n",
    "Las funciones se declaran utilizando la palabra clave `fn`. Sus argumentos tienen anotaciones de tipo, al igual que las variables, y, si la función devuelve un valor, el tipo de retorno debe especificarse después de una flecha `->`."
   ]
  },
  {
   "cell_type": "code",
   "execution_count": 43,
   "id": "2d11babf",
   "metadata": {},
   "outputs": [
    {
     "name": "stdout",
     "output_type": "stream",
     "text": [
      "Hello\n",
      "The value of x is: 5\n",
      "The value of x is: 5\n"
     ]
    }
   ],
   "source": [
    "fn hello(){\n",
    "    println!(\"Hello\");\n",
    "}\n",
    "\n",
    "hello();\n",
    "\n",
    "fn another_function(x: i32) {\n",
    "    println!(\"The value of x is: {x}\");\n",
    "}\n",
    "\n",
    "another_function(5);\n",
    "\n",
    "// funcion con tipo de retorno\n",
    "fn five() -> i32 {\n",
    "    5\n",
    "}\n",
    "\n",
    "let x = five();\n",
    "println!(\"The value of x is: {x}\");\n"
   ]
  },
  {
   "cell_type": "markdown",
   "id": "2d33b2a5",
   "metadata": {},
   "source": [
    "## Metodos\n",
    "A diferencia de las funciones, los métodos se definen dentro del contexto de una `sturct` (o un `enum`).\n",
    "\n",
    "Los métodos son funciones asociadas que se llaman en una instancia particular de un tipo."
   ]
  },
  {
   "cell_type": "code",
   "execution_count": 45,
   "id": "3a2a432a",
   "metadata": {},
   "outputs": [
    {
     "name": "stdout",
     "output_type": "stream",
     "text": [
      "The area of the rectangle is 1500 square pixels.\n"
     ]
    }
   ],
   "source": [
    "#[derive(Debug)]\n",
    "struct Rectangle {\n",
    "    width: u32,\n",
    "    height: u32,\n",
    "}\n",
    "\n",
    "impl Rectangle {\n",
    "    fn area(&self) -> u32 {\n",
    "        self.width * self.height\n",
    "    }\n",
    "}\n",
    "let rect1 = Rectangle {\n",
    "    width: 30,\n",
    "    height: 50,\n",
    "};\n",
    "\n",
    "println!(\n",
    "    \"The area of the rectangle is {} square pixels.\",\n",
    "    rect1.area()\n",
    ");\n"
   ]
  },
  {
   "cell_type": "markdown",
   "id": "4d059a25",
   "metadata": {},
   "source": [
    "## Clousures\n",
    "`clousures` son bloques de código que pueden capturar y operar en variables desde su entorno circundante. Se asemejan a funciones anónimas o lambdas en otros lenguajes de programación.\n",
    "Por ejemplo, un cierre que captura la variable \n",
    "> x: |val| val + x\n",
    "- Se usa || en lugar de () alrededor de las variables de entrada. \n",
    "- Delimitación del cuerpo opcional ({}) para una sola expresión (obligatoria en caso contrario)."
   ]
  },
  {
   "cell_type": "code",
   "execution_count": 49,
   "id": "a0a1673f",
   "metadata": {},
   "outputs": [
    {
     "name": "stdout",
     "output_type": "stream",
     "text": [
      "closure_annotated: 43\n",
      "closure_inferred: 43\n",
      "closure returning one: 1\n"
     ]
    }
   ],
   "source": [
    "fn main() {\n",
    "    let outer_var = 42;\n",
    "    // una funcion normal no puede llamar variables del entorno circundante\n",
    "    let closure_annotated = |i: i32| -> i32 { i + outer_var };\n",
    "    let closure_inferred  = |i     |          i + outer_var  ;\n",
    "\n",
    "    // Call the closures.\n",
    "    println!(\"closure_annotated: {}\", closure_annotated(1));\n",
    "    println!(\"closure_inferred: {}\", closure_inferred(1));\n",
    "    \n",
    "    // clousure que no toma ningun argumento y siempre devuelve 1\n",
    "    let one = || 1;\n",
    "    println!(\"closure returning one: {}\", one());\n",
    "}\n",
    "main();"
   ]
  },
  {
   "cell_type": "markdown",
   "id": "8bbfc92f",
   "metadata": {},
   "source": [
    "## Ownership\n",
    "Debido a que las variables son las encargadas de liberar sus propios recursos, los recursos solo pueden tener un propietario. Esto también evita que los recursos se liberen más de una vez.\n",
    "Al realizar asignaciones `(let x = y)` o pasar argumentos de función por valor `(foo(x))`, se transfiere la propiedad de los recursos.\n",
    "Después de mover recursos, el propietario anterior ya no se puede utilizar. Esto evita crear punteros colgantes."
   ]
  },
  {
   "cell_type": "code",
   "execution_count": 69,
   "id": "8ebd66c5",
   "metadata": {},
   "outputs": [
    {
     "name": "stdout",
     "output_type": "stream",
     "text": [
      "x is 5, and y is 5\n",
      "a contains: 5\n"
     ]
    }
   ],
   "source": [
    "// Esta funcion toma la propiedad del argumento.\n",
    "fn destroy_box(c: Box<i32>) {\n",
    "    println!(\"Destroying a box that contains {}\", c);\n",
    "\n",
    "    // `c` es destruida y la memoria se libera\n",
    "}\n",
    "// _Stack_ allocated integer\n",
    "let x = 5u32;\n",
    "\n",
    "// *copia* `x` a `y`\n",
    "let y = x;\n",
    "\n",
    "// se puden usar ambor valores independientemente\n",
    "println!(\"x is {}, and y is {}\", x, y);\n",
    "\n",
    "// `a` is a pointer to a _heap_ allocated integer\n",
    "let a = Box::new(5i32);\n",
    "\n",
    "println!(\"a contains: {}\", a);"
   ]
  },
  {
   "cell_type": "code",
   "execution_count": 71,
   "id": "f2f9c9fe",
   "metadata": {},
   "outputs": [
    {
     "name": "stdout",
     "output_type": "stream",
     "text": [
      "Destroying a box that contains 5\n"
     ]
    }
   ],
   "source": [
    "// * Mueve * `a` a `b`\n",
    "let b = a;\n",
    "// el direccion del puntero de `a` es copiada (no el contenido) a `b`\n",
    "// ambos apuntan al mismo heap allocated data, pero\n",
    "// le pertence a `b` \n",
    "    \n",
    "// si queremos imprimir `a` tenemos un error por que a ya no propietaria del\n",
    "// registro en memoria\n",
    "//println!(\"a contains: {}\", a);\n",
    "\n",
    "//Esta función toma posesión de la memoria asignada en el montículo desde b.\n",
    "destroy_box(b);\n",
    "\n",
    "//Ya que la memoria del montículo ha sido liberada en este punto, \n",
    "//esta acción resultaría en la desreferenciación de memoria liberada, \n",
    "//pero está prohibida por el compilador. \n",
    "//¡Error! La misma razón que el error anterior.\n",
    "//println!(\"b contains: {}\", b);"
   ]
  },
  {
   "cell_type": "markdown",
   "id": "9ea935c5",
   "metadata": {},
   "source": [
    "### Mutabilidad\n",
    "La mutabilidad de los datos se puede cambiar cuando se transfiere la propiedad.\n",
    "\n",
    "> El operador `*` se usa para desreferenciar un puntero, accediendo al valor al que apunta."
   ]
  },
  {
   "cell_type": "code",
   "execution_count": 75,
   "id": "939dee08",
   "metadata": {},
   "outputs": [
    {
     "name": "stdout",
     "output_type": "stream",
     "text": [
      "immutable_box contains 5\n",
      "mutable_box contains 5\n",
      "mutable_box now contains 4\n"
     ]
    }
   ],
   "source": [
    "let immutable_box = Box::new(5u32);\n",
    "\n",
    "println!(\"immutable_box contains {}\", immutable_box);\n",
    "\n",
    "// Error de mutabilidad\n",
    "//*immutable_box = 4;\n",
    "\n",
    "// *Mueve* la caja, cambia el propietario (y la mutabilidad)\n",
    "let mut mutable_box = immutable_box;\n",
    "\n",
    "println!(\"mutable_box contains {}\", mutable_box);\n",
    "\n",
    "// Modifica el contenido de la caja\n",
    "*mutable_box = 4;\n",
    "\n",
    "println!(\"mutable_box now contains {}\", mutable_box);\n"
   ]
  },
  {
   "cell_type": "markdown",
   "id": "c229a062",
   "metadata": {},
   "source": [
    "## Borrowing\n",
    "La mayoría de las veces, nos gustaría acceder a los datos sin apropiarnos de ellos. Para lograr esto, Rust utiliza un mecanismo de préstamo. En lugar de pasar objetos por valor (`T`), los objetos se pueden pasar por referencia (`&T`).\n",
    "\n",
    ">El operador `&` se usa para crear una referencia a un valor existente"
   ]
  },
  {
   "cell_type": "code",
   "execution_count": 78,
   "id": "0d3d3f74",
   "metadata": {},
   "outputs": [
    {
     "name": "stdout",
     "output_type": "stream",
     "text": [
      "This int is: 5\n",
      "This int is: 6\n",
      "This int is: 5\n",
      "Destroying box that contains 5\n"
     ]
    }
   ],
   "source": [
    "// Esta función toma posesión de una caja y la destruye.\n",
    "fn eat_box_i32(boxed_i32: Box<i32>) {\n",
    "    println!(\"Destroying box that contains {}\", boxed_i32);\n",
    "}\n",
    "\n",
    "// Esta función toma prestado un i32.\n",
    "fn borrow_i32(borrowed_i32: &i32) {\n",
    "    println!(\"This int is: {}\", borrowed_i32);\n",
    "}\n",
    "// Crear un i32 en una caja (en el montículo) y un i32 en la pila.\n",
    "let boxed_i32 = Box::new(5_i32);\n",
    "let stacked_i32 = 6_i32;\n",
    "\n",
    "// Presta el contenido de la caja. No se toma la propiedad,\n",
    "// por lo que el contenido puede ser prestado nuevamente\n",
    "borrow_i32(&boxed_i32);\n",
    "borrow_i32(&stacked_i32);\n",
    "\n",
    "{\n",
    "  // Tomar una referencia a los datos contenidos dentro de la caja.\n",
    "  let _ref_to_i32: &i32 = &boxed_i32;\n",
    "\n",
    "  // ¡Error!\n",
    "  // No se puede destruir 'boxed_i32' mientras el valor interno está prestado más adelante en el ámbito.\n",
    "  //eat_box_i32(boxed_i32);\n",
    "\n",
    "  // Intento de tomar prestado _ref_to_i32 después de que el valor interno haya sido destruido\n",
    "  borrow_i32(_ref_to_i32);\n",
    "}\n",
    "\n",
    "// `boxed_i32 ahora puede ceder la propiedad a eat_box y ser destruido.\n",
    "eat_box_i32(boxed_i32);\n"
   ]
  },
  {
   "cell_type": "markdown",
   "id": "ce864295",
   "metadata": {},
   "source": [
    "### Mutabilidad \n",
    "Los datos mutables se pueden tomar prestados de forma mutable usando `&mut T`. Esto se denomina referencia mutable y otorga acceso de lectura/escritura al prestatario."
   ]
  },
  {
   "cell_type": "code",
   "execution_count": 81,
   "id": "854df11f",
   "metadata": {},
   "outputs": [
    {
     "name": "stdout",
     "output_type": "stream",
     "text": [
      "hello, world\n"
     ]
    }
   ],
   "source": [
    "fn main() {\n",
    "    let mut s = String::from(\"hello\");\n",
    "\n",
    "    change(&mut s);\n",
    "    println!(\"{}\", s)\n",
    "}\n",
    "\n",
    "fn change(some_string: &mut String) {\n",
    "    some_string.push_str(\", world\");\n",
    "}\n",
    "main();"
   ]
  },
  {
   "cell_type": "markdown",
   "id": "c36c9dcc",
   "metadata": {},
   "source": [
    "## Lifetimes\n",
    "Una lifetime es una construcción que utiliza el compilador (o más específicamente, su borrow checker) para garantizar que todos los préstamos sean válidos."
   ]
  },
  {
   "cell_type": "code",
   "execution_count": 86,
   "id": "a1babc5e",
   "metadata": {},
   "outputs": [
    {
     "name": "stdout",
     "output_type": "stream",
     "text": [
      "borrow1: 3\n",
      "borrow2: 3\n",
      "original: 3\n"
     ]
    }
   ],
   "source": [
    "fn main() {\n",
    "    let i = 3; // Lifetime for `i` starts. ────────────────┐\n",
    "    //                                                     │\n",
    "    { //                                                   │\n",
    "        let borrow1 = &i; // `borrow1` lifetime starts. ──┐│\n",
    "        //                                                ││\n",
    "        println!(\"borrow1: {}\", borrow1); //              ││\n",
    "    } // `borrow1` ends. ─────────────────────────────────┘│\n",
    "    //                                                     │\n",
    "    //                                                     │\n",
    "    { //                                                   │\n",
    "        let borrow2 = &i; // `borrow2` lifetime starts. ──┐│\n",
    "        //                                                ││\n",
    "        println!(\"borrow2: {}\", borrow2); //              ││\n",
    "    } // `borrow2` ends. ─────────────────────────────────┘│\n",
    "    //                                                     |\n",
    "    println!(\"original: {}\", i)//                          │\n",
    "}   // Lifetime ends. ─────────────────────────────────────┘\n",
    "main();"
   ]
  },
  {
   "cell_type": "markdown",
   "id": "445e6896",
   "metadata": {},
   "source": [
    "# Concurrencia\n",
    "Las características de seguridad de la memoria de Rust también se aplican a su historia de concurrencia. Incluso los programas Rust concurrentes deben tener memoria segura y no tener carreras de datos. El sistema de tipos de Rust está a la altura de la tarea y le brinda formas poderosas de razonar sobre el código concurrente en tiempo de compilación.\n",
    "\n",
    "## Background: Send y Sync\n",
    "En Rust, tenemos un sistema de tipos estático y sólido que nos ayuda a razonar sobre nuestro código. Como tal, Rust nos brinda dos características que nos ayudan a entender el código que posiblemente pueda ser concurrente.\n",
    "\n",
    "### Send\n",
    "Cuando un tipo `T` implementa `Send`, indica que algo de este tipo puede transferir la propiedad de forma segura entre subprocesos.\n",
    "\n",
    "### Sync\n",
    "Cuando un tipo `T` implementa `Sync`, indica que algo de este tipo no tiene posibilidad de introducir inseguridad en la memoria cuando se usa desde múltiples subprocesos simultáneamente a través de referencias compartidas.\n",
    "\n",
    "> Para compartir referencias entre subprocesos, Rust proporciona un tipo de contenedor llamado `Arc<T>`. `Arc<T>` implementa `Send` y `Sync` si y solo si T implementa `Send` y `Sync`.\n",
    "\n",
    "> Un `trait` describe un comportamiento que puede ser compartido entre diferentes tipos de datos. Define métodos o funcionalidades que un tipo de dato puede implementar.\n"
   ]
  },
  {
   "cell_type": "markdown",
   "id": "5bafdde9",
   "metadata": {},
   "source": [
    "## Threads\n",
    "La biblioteca estándar de Rust proporciona una biblioteca para subprocesos que le permite ejecutar código Rust en paralelo. Aquí hay un ejemplo básico del uso de `std::thread:`"
   ]
  },
  {
   "cell_type": "code",
   "execution_count": 90,
   "id": "abe903b0",
   "metadata": {},
   "outputs": [
    {
     "name": "stdout",
     "output_type": "stream",
     "text": [
      "Hello from a thread!\n"
     ]
    }
   ],
   "source": [
    "use std::thread;\n",
    "\n",
    "thread::spawn(|| {\n",
    "    println!(\"Hello from a thread!\");\n",
    "});"
   ]
  },
  {
   "cell_type": "markdown",
   "id": "ed6cbdb9",
   "metadata": {},
   "source": [
    "El método `thread::spawn()` acepta `Clousures`, que se ejecuta en un nuevo hilo. Devuelve un `handle` al subproceso, que puede usarse para esperar a que finalice el subproceso secundario y extraer su resultado:"
   ]
  },
  {
   "cell_type": "code",
   "execution_count": 91,
   "id": "c1ae934f",
   "metadata": {},
   "outputs": [
    {
     "name": "stdout",
     "output_type": "stream",
     "text": [
      "Hello from a thread!\n"
     ]
    }
   ],
   "source": [
    "use std::thread;\n",
    "\n",
    "fn main() {\n",
    "    let handle = thread::spawn(|| {\n",
    "        \"Hello from a thread!\"\n",
    "    });\n",
    "\n",
    "    println!(\"{}\", handle.join().unwrap());\n",
    "}"
   ]
  },
  {
   "cell_type": "markdown",
   "id": "c7c63be5",
   "metadata": {},
   "source": [
    "El tipo de retorno de `thread::spawn` es `JoinHandle`. Un `JoinHandle` es un valor de propiedad que, cuando llamamos al método `join`, esperará a que finalice su hilo."
   ]
  },
  {
   "cell_type": "code",
   "execution_count": 113,
   "id": "723b953c",
   "metadata": {},
   "outputs": [
    {
     "name": "stdout",
     "output_type": "stream",
     "text": [
      "Soy el hilo numero: 1\n",
      "Soy el hilo numero: 2\n",
      "Soy el hilo numero: 3\n",
      "Soy el hilo numero: 4\n",
      "Soy el hilo numero: 5\n",
      "Soy el hilo numero: 6\n",
      "Soy el hilo numero: 7\n",
      "Soy el hilo numero: 8\n",
      "Soy el hilo numero: 9\n",
      "Soy el hilo numero 1 del hilo principal\n",
      "Soy el hilo numero 2 del hilo principal\n",
      "Soy el hilo numero 3 del hilo principal\n",
      "Soy el hilo numero 4 del hilo principal\n"
     ]
    }
   ],
   "source": [
    "use std::thread;\n",
    "use std::time::Duration;\n",
    "\n",
    "fn main() {\n",
    "    let handle = thread::spawn(|| {\n",
    "        for i in 1..10 {\n",
    "            println!(\"Soy el hilo numero: {}\", i);\n",
    "            thread::sleep(Duration::from_millis(1));\n",
    "        }\n",
    "    });\n",
    "    handle.join().unwrap();\n",
    "\n",
    "    for i in 1..5 {\n",
    "        println!(\"Soy el hilo numero {} del hilo principal\", i);\n",
    "        thread::sleep(Duration::from_millis(1));\n",
    "    }\n",
    "\n",
    "}\n",
    "main();"
   ]
  },
  {
   "cell_type": "markdown",
   "id": "50447e6b",
   "metadata": {},
   "source": [
    "Como los `Clousures` pueden capturar variables de su entorno, también podemos intentar traer algunos datos al otro hilo:"
   ]
  },
  {
   "cell_type": "code",
   "execution_count": 96,
   "id": "c8ad4671",
   "metadata": {},
   "outputs": [
    {
     "ename": "Error",
     "evalue": "closure may outlive the current function, but it borrows `x`, which is owned by the current function",
     "output_type": "error",
     "traceback": [
      "\u001b[31m[E0373] Error:\u001b[0m closure may outlive the current function, but it borrows `x`, which is owned by the current function",
      "   \u001b[38;5;246m╭\u001b[0m\u001b[38;5;246m─\u001b[0m\u001b[38;5;246m[\u001b[0mcommand_96:1:1\u001b[38;5;246m]\u001b[0m",
      "   \u001b[38;5;246m│\u001b[0m",
      " \u001b[38;5;246m5 │\u001b[0m \u001b[38;5;68m╭\u001b[0m\u001b[38;5;68m─\u001b[0m\u001b[38;5;68m▶\u001b[0m\u001b[38;5;68m \u001b[0m\u001b[38;5;249m \u001b[0m\u001b[38;5;249m \u001b[0m\u001b[38;5;249m \u001b[0m\u001b[38;5;249m \u001b[0m\u001b[38;5;68mt\u001b[0m\u001b[38;5;68mh\u001b[0m\u001b[38;5;68mr\u001b[0m\u001b[38;5;68me\u001b[0m\u001b[38;5;68ma\u001b[0m\u001b[38;5;68md\u001b[0m\u001b[38;5;68m:\u001b[0m\u001b[38;5;68m:\u001b[0m\u001b[38;5;68ms\u001b[0m\u001b[38;5;68mp\u001b[0m\u001b[38;5;68ma\u001b[0m\u001b[38;5;68mw\u001b[0m\u001b[38;5;68mn\u001b[0m\u001b[38;5;68m(\u001b[0m\u001b[38;5;100m|\u001b[0m\u001b[38;5;100m|\u001b[0m\u001b[38;5;68m \u001b[0m\u001b[38;5;68m{\u001b[0m",
      " \u001b[38;5;240m  │\u001b[0m \u001b[38;5;68m│\u001b[0m                     \u001b[38;5;37m┬\u001b[0m\u001b[38;5;100m┬\u001b[0m  ",
      " \u001b[38;5;240m  │\u001b[0m \u001b[38;5;68m│\u001b[0m                     \u001b[38;5;37m╰\u001b[0m\u001b[38;5;37m─\u001b[0m\u001b[38;5;37m─\u001b[0m\u001b[38;5;37m─\u001b[0m help: to force the closure to take ownership of `x` (and any other referenced variables), use the `move` keyword: `move `",
      " \u001b[38;5;240m  │\u001b[0m \u001b[38;5;68m│\u001b[0m                      \u001b[38;5;100m│\u001b[0m  ",
      " \u001b[38;5;240m  │\u001b[0m \u001b[38;5;68m│\u001b[0m                      \u001b[38;5;100m╰\u001b[0m\u001b[38;5;100m─\u001b[0m\u001b[38;5;100m─\u001b[0m may outlive borrowed value `x`",
      " \u001b[38;5;246m6 │\u001b[0m \u001b[38;5;68m│\u001b[0m   \u001b[38;5;68m \u001b[0m\u001b[38;5;68m \u001b[0m\u001b[38;5;68m \u001b[0m\u001b[38;5;68m \u001b[0m\u001b[38;5;68m \u001b[0m\u001b[38;5;68m \u001b[0m\u001b[38;5;68m \u001b[0m\u001b[38;5;68m \u001b[0m\u001b[38;5;68mp\u001b[0m\u001b[38;5;68mr\u001b[0m\u001b[38;5;68mi\u001b[0m\u001b[38;5;68mn\u001b[0m\u001b[38;5;68mt\u001b[0m\u001b[38;5;68ml\u001b[0m\u001b[38;5;68mn\u001b[0m\u001b[38;5;68m!\u001b[0m\u001b[38;5;68m(\u001b[0m\u001b[38;5;68m\"\u001b[0m\u001b[38;5;68mx\u001b[0m\u001b[38;5;68m \u001b[0m\u001b[38;5;68mi\u001b[0m\u001b[38;5;68ms\u001b[0m\u001b[38;5;68m \u001b[0m\u001b[38;5;68m{\u001b[0m\u001b[38;5;68m}\u001b[0m\u001b[38;5;68m\"\u001b[0m\u001b[38;5;68m,\u001b[0m\u001b[38;5;68m \u001b[0m\u001b[38;5;54mx\u001b[0m\u001b[38;5;68m)\u001b[0m\u001b[38;5;68m;\u001b[0m",
      " \u001b[38;5;240m  │\u001b[0m \u001b[38;5;68m│\u001b[0m                               \u001b[38;5;54m┬\u001b[0m  ",
      " \u001b[38;5;240m  │\u001b[0m \u001b[38;5;68m│\u001b[0m                               \u001b[38;5;54m╰\u001b[0m\u001b[38;5;54m─\u001b[0m\u001b[38;5;54m─\u001b[0m `x` is borrowed here",
      " \u001b[38;5;246m7 │\u001b[0m \u001b[38;5;68m├\u001b[0m\u001b[38;5;68m─\u001b[0m\u001b[38;5;68m▶\u001b[0m\u001b[38;5;68m \u001b[0m\u001b[38;5;68m \u001b[0m\u001b[38;5;68m \u001b[0m\u001b[38;5;68m \u001b[0m\u001b[38;5;68m \u001b[0m\u001b[38;5;68m}\u001b[0m\u001b[38;5;68m)\u001b[0m\u001b[38;5;249m;\u001b[0m",
      " \u001b[38;5;240m  │\u001b[0m \u001b[38;5;68m│\u001b[0m             ",
      " \u001b[38;5;240m  │\u001b[0m \u001b[38;5;68m╰\u001b[0m\u001b[38;5;68m─\u001b[0m\u001b[38;5;68m─\u001b[0m\u001b[38;5;68m─\u001b[0m\u001b[38;5;68m─\u001b[0m\u001b[38;5;68m─\u001b[0m\u001b[38;5;68m─\u001b[0m\u001b[38;5;68m─\u001b[0m\u001b[38;5;68m─\u001b[0m\u001b[38;5;68m─\u001b[0m\u001b[38;5;68m─\u001b[0m\u001b[38;5;68m─\u001b[0m\u001b[38;5;68m─\u001b[0m\u001b[38;5;68m─\u001b[0m note: function requires argument type to outlive `'static`",
      "\u001b[38;5;246m───╯\u001b[0m"
     ]
    }
   ],
   "source": [
    "use std::thread;\n",
    "\n",
    "fn main() {\n",
    "    let x = 1;\n",
    "    thread::spawn(|| {\n",
    "        println!(\"x is {}\", x);\n",
    "    });\n",
    "}"
   ]
  },
  {
   "cell_type": "markdown",
   "id": "fde41ea9",
   "metadata": {},
   "source": [
    "Esto se debe a que, de forma predeterminada, los `Clousures` capturan variables por referencia y, por lo tanto, el `Clousures` solo captura una referencia a x. Esto es un problema, porque el hilo puede sobrevivir al alcance de x, lo que genera un puntero colgante.\n",
    "\n",
    "Para solucionar este problema, utilizamos un `move` `clousure` como se menciona en el mensaje de error.  <img src=\"https://doc.rust-lang.org/book/img/ferris/not_desired_behavior.svg\" width=\"80\" height=\"80\">\n",
    "\n",
    "> los `move` `clousure` basicamente, mueven variables de su entorno hacia ellos mismos."
   ]
  },
  {
   "cell_type": "code",
   "execution_count": 95,
   "id": "72e22b6c",
   "metadata": {},
   "outputs": [
    {
     "name": "stdout",
     "output_type": "stream",
     "text": [
      "x is 1\n"
     ]
    }
   ],
   "source": [
    "use std::thread;\n",
    "\n",
    "fn main() {\n",
    "    let x = 1;\n",
    "    thread::spawn(move || {\n",
    "        println!(\"x is {}\", x);\n",
    "    });\n",
    "}\n",
    "main();"
   ]
  },
  {
   "cell_type": "markdown",
   "id": "37eed883",
   "metadata": {},
   "source": [
    "### Compartir de manera segura estados mutables\n",
    "El mismo sistema de ownership que ayuda a evitar el uso incorrecto de punteros también ayuda a descartar carreras de datos, uno de los peores tipos de errores de concurrencia.\n",
    "\n",
    "Como ejemplo, aquí hay un programa Rust que tendría un problema de carrera de datos en muchos lenguajes. No compilará: <img src=\"https://doc.rust-lang.org/book/img/ferris/panics.svg\" width=\"80\" height=\"80\">"
   ]
  },
  {
   "cell_type": "code",
   "execution_count": 97,
   "id": "fe68d683",
   "metadata": {},
   "outputs": [
    {
     "ename": "Error",
     "evalue": "use of moved value: `data`",
     "output_type": "error",
     "traceback": [
      "\u001b[31m[E0382] Error:\u001b[0m use of moved value: `data`",
      "   \u001b[38;5;246m╭\u001b[0m\u001b[38;5;246m─\u001b[0m\u001b[38;5;246m[\u001b[0mcommand_97:1:1\u001b[38;5;246m]\u001b[0m",
      "   \u001b[38;5;246m│\u001b[0m",
      " \u001b[38;5;246m5 │\u001b[0m \u001b[38;5;249m \u001b[0m\u001b[38;5;249m \u001b[0m\u001b[38;5;249m \u001b[0m\u001b[38;5;249m \u001b[0m\u001b[38;5;249ml\u001b[0m\u001b[38;5;249me\u001b[0m\u001b[38;5;249mt\u001b[0m\u001b[38;5;249m \u001b[0m\u001b[38;5;68mm\u001b[0m\u001b[38;5;68mu\u001b[0m\u001b[38;5;68mt\u001b[0m\u001b[38;5;68m \u001b[0m\u001b[38;5;68md\u001b[0m\u001b[38;5;68ma\u001b[0m\u001b[38;5;68mt\u001b[0m\u001b[38;5;68ma\u001b[0m\u001b[38;5;249m \u001b[0m\u001b[38;5;249m=\u001b[0m\u001b[38;5;249m \u001b[0m\u001b[38;5;249mv\u001b[0m\u001b[38;5;249me\u001b[0m\u001b[38;5;249mc\u001b[0m\u001b[38;5;249m!\u001b[0m\u001b[38;5;249m[\u001b[0m\u001b[38;5;249m1\u001b[0m\u001b[38;5;249m,\u001b[0m\u001b[38;5;249m \u001b[0m\u001b[38;5;249m2\u001b[0m\u001b[38;5;249m,\u001b[0m\u001b[38;5;249m \u001b[0m\u001b[38;5;249m3\u001b[0m\u001b[38;5;249m]\u001b[0m\u001b[38;5;249m;\u001b[0m",
      " \u001b[38;5;240m  │\u001b[0m         \u001b[38;5;68m─\u001b[0m\u001b[38;5;68m─\u001b[0m\u001b[38;5;68m─\u001b[0m\u001b[38;5;68m─\u001b[0m\u001b[38;5;68m┬\u001b[0m\u001b[38;5;68m─\u001b[0m\u001b[38;5;68m─\u001b[0m\u001b[38;5;68m─\u001b[0m  ",
      " \u001b[38;5;240m  │\u001b[0m             \u001b[38;5;68m╰\u001b[0m\u001b[38;5;68m─\u001b[0m\u001b[38;5;68m─\u001b[0m\u001b[38;5;68m─\u001b[0m\u001b[38;5;68m─\u001b[0m\u001b[38;5;68m─\u001b[0m move occurs because `data` has type `Vec<i32>`, which does not implement the `Copy` trait",
      " \u001b[38;5;240m  │\u001b[0m ",
      " \u001b[38;5;246m8 │\u001b[0m \u001b[38;5;249m \u001b[0m\u001b[38;5;249m \u001b[0m\u001b[38;5;249m \u001b[0m\u001b[38;5;249m \u001b[0m\u001b[38;5;249m \u001b[0m\u001b[38;5;249m \u001b[0m\u001b[38;5;249m \u001b[0m\u001b[38;5;249m \u001b[0m\u001b[38;5;249mt\u001b[0m\u001b[38;5;249mh\u001b[0m\u001b[38;5;249mr\u001b[0m\u001b[38;5;249me\u001b[0m\u001b[38;5;249ma\u001b[0m\u001b[38;5;249md\u001b[0m\u001b[38;5;249m:\u001b[0m\u001b[38;5;249m:\u001b[0m\u001b[38;5;249ms\u001b[0m\u001b[38;5;249mp\u001b[0m\u001b[38;5;249ma\u001b[0m\u001b[38;5;249mw\u001b[0m\u001b[38;5;249mn\u001b[0m\u001b[38;5;249m(\u001b[0m\u001b[38;5;54mm\u001b[0m\u001b[38;5;54mo\u001b[0m\u001b[38;5;54mv\u001b[0m\u001b[38;5;54me\u001b[0m\u001b[38;5;54m \u001b[0m\u001b[38;5;54m|\u001b[0m\u001b[38;5;54m|\u001b[0m\u001b[38;5;249m \u001b[0m\u001b[38;5;249m{\u001b[0m",
      " \u001b[38;5;240m  │\u001b[0m                       \u001b[38;5;54m─\u001b[0m\u001b[38;5;54m─\u001b[0m\u001b[38;5;54m─\u001b[0m\u001b[38;5;54m┬\u001b[0m\u001b[38;5;54m─\u001b[0m\u001b[38;5;54m─\u001b[0m\u001b[38;5;54m─\u001b[0m  ",
      " \u001b[38;5;240m  │\u001b[0m                          \u001b[38;5;54m╰\u001b[0m\u001b[38;5;54m─\u001b[0m\u001b[38;5;54m─\u001b[0m\u001b[38;5;54m─\u001b[0m\u001b[38;5;54m─\u001b[0m\u001b[38;5;54m─\u001b[0m value moved into closure here, in previous iteration of loop",
      " \u001b[38;5;246m9 │\u001b[0m \u001b[38;5;249m \u001b[0m\u001b[38;5;249m \u001b[0m\u001b[38;5;249m \u001b[0m\u001b[38;5;249m \u001b[0m\u001b[38;5;249m \u001b[0m\u001b[38;5;249m \u001b[0m\u001b[38;5;249m \u001b[0m\u001b[38;5;249m \u001b[0m\u001b[38;5;249m \u001b[0m\u001b[38;5;249m \u001b[0m\u001b[38;5;249m \u001b[0m\u001b[38;5;249m \u001b[0m\u001b[38;5;100md\u001b[0m\u001b[38;5;100ma\u001b[0m\u001b[38;5;100mt\u001b[0m\u001b[38;5;100ma\u001b[0m\u001b[38;5;249m[\u001b[0m\u001b[38;5;249m0\u001b[0m\u001b[38;5;249m]\u001b[0m\u001b[38;5;249m \u001b[0m\u001b[38;5;249m+\u001b[0m\u001b[38;5;249m=\u001b[0m\u001b[38;5;249m \u001b[0m\u001b[38;5;249mi\u001b[0m\u001b[38;5;249m;\u001b[0m",
      " \u001b[38;5;240m  │\u001b[0m             \u001b[38;5;100m─\u001b[0m\u001b[38;5;100m─\u001b[0m\u001b[38;5;100m┬\u001b[0m\u001b[38;5;100m─\u001b[0m  ",
      " \u001b[38;5;240m  │\u001b[0m               \u001b[38;5;100m╰\u001b[0m\u001b[38;5;100m─\u001b[0m\u001b[38;5;100m─\u001b[0m\u001b[38;5;100m─\u001b[0m use occurs due to use in closure",
      "\u001b[38;5;246m───╯\u001b[0m"
     ]
    }
   ],
   "source": [
    "use std::thread;\n",
    "use std::time::Duration;\n",
    "\n",
    "fn main() {\n",
    "    let mut data = vec![1, 2, 3];\n",
    "\n",
    "    for i in 0..3 {\n",
    "        thread::spawn(move || {\n",
    "            data[0] += i;\n",
    "        });\n",
    "    }\n",
    "\n",
    "    thread::sleep(Duration::from_millis(50));\n",
    "}\n",
    "main();"
   ]
  },
  {
   "cell_type": "markdown",
   "id": "fdc56f22",
   "metadata": {},
   "source": [
    "Para resolver esto usamos:\n",
    "- `Arc<T>` en esencia, es un tipo que nos permite compartir la propiedad de los datos entre subprocesos.\n",
    "- Usamos `clone()` para crear un nuevo identificador de propiedad. Luego, este identificador se mueve al nuevo hilo.\n",
    "- `Mutex<T>` asegura la exclusión mutua, lo que significa que solo un thread puede poseer el bloqueo (lock) del mutex y acceder a los datos protegidos en un momento dado.\n",
    "\n",
    "<img src=\"https://rustacean.net/assets/rustacean-flat-happy.svg\" width=\"80\" height=\"80\">"
   ]
  },
  {
   "cell_type": "code",
   "execution_count": 118,
   "id": "b6556ad1",
   "metadata": {},
   "outputs": [
    {
     "name": "stdout",
     "output_type": "stream",
     "text": [
      "x is 2\n",
      "x is 4\n",
      "x is 4\n"
     ]
    }
   ],
   "source": [
    "use std::sync::{Arc, Mutex};\n",
    "use std::thread;\n",
    "use std::time::Duration;\n",
    "\n",
    "fn main() {\n",
    "    let data = Arc::new(Mutex::new(vec![1, 2, 3]));\n",
    "\n",
    "    for i in 0..3 {\n",
    "        let data = data.clone();\n",
    "        thread::spawn(move || {\n",
    "            let mut data = data.lock().unwrap();\n",
    "            data[0] += i;\n",
    "            println!(\"x is {}\", data[0]);\n",
    "        });\n",
    "    }\n",
    "\n",
    "    thread::sleep(Duration::from_millis(1));\n",
    "}\n",
    "main();"
   ]
  },
  {
   "cell_type": "markdown",
   "id": "2ea2e234",
   "metadata": {},
   "source": [
    "### Canales \n",
    "Para lograr la concurrencia en el envío de mensajes, la biblioteca estándar de Rust proporciona una implementación de canales. Un canal es un concepto de programación general mediante el cual se envían datos de un hilo a otro.\n",
    "\n",
    "Aquí hay una versión de nuestro código que usa canales para la sincronización, en lugar de esperar un tiempo específico:"
   ]
  },
  {
   "cell_type": "code",
   "execution_count": 109,
   "id": "0eeaa331",
   "metadata": {},
   "outputs": [
    {
     "name": "stdout",
     "output_type": "stream",
     "text": [
      "Valor recibido: 1\n",
      "Valor recibido: 2\n",
      "Valor recibido: 3\n",
      "Valor recibido: 4\n",
      "Valor recibido: 5\n",
      "Valor recibido: 6\n",
      "Valor recibido: 7\n",
      "Valor recibido: 8\n",
      "Valor recibido: 9\n",
      "Valor recibido: 10\n"
     ]
    }
   ],
   "source": [
    "use std::sync::{Arc, Mutex};\n",
    "use std::thread;\n",
    "use std::sync::mpsc;\n",
    "\n",
    "fn main() {\n",
    "    let data = Arc::new(Mutex::new(0));\n",
    "    \n",
    "    // `tx` is the \"transmitter\" or \"sender\".\n",
    "    // `rx` is the \"receiver\".\n",
    "\n",
    "    let (tx, rx) = mpsc::channel::<i32>(); // Definir el tipo de dato en el canal como i32\n",
    "\n",
    "    for _ in 0..10 {\n",
    "        let (data, tx) = (Arc::clone(&data), tx.clone());\n",
    "\n",
    "        thread::spawn(move || {\n",
    "            let mut data = data.lock().unwrap();\n",
    "            *data += 1;\n",
    "\n",
    "            // Enviar el valor actual de data a través del canal\n",
    "            tx.send(*data).unwrap();\n",
    "        });\n",
    "    }\n",
    "\n",
    "    // Recibir e imprimir los valores enviados por cada thread\n",
    "    for _ in 0..10 {\n",
    "        let received = rx.recv().unwrap();\n",
    "        println!(\"Valor recibido: {}\", received);\n",
    "    }\n",
    "}\n",
    "main();\n"
   ]
  },
  {
   "cell_type": "markdown",
   "id": "65a9e42c",
   "metadata": {},
   "source": [
    "## Ejemplos"
   ]
  },
  {
   "cell_type": "code",
   "execution_count": 116,
   "id": "2cf8dc45",
   "metadata": {},
   "outputs": [
    {
     "name": "stdout",
     "output_type": "stream",
     "text": [
      "El segmento de datos 0 es \"86967897737416471853297327050364959\"\n",
      "El segmento de datos 1 es \"11861322575564723963297542624962850\"\n",
      "El segmento de datos 2 es \"70856234701860851907960690014725639\"\n",
      "El segmento de datos 3 es \"38397966707106094172783238747669219\"\n",
      "El segmento de datos 4 es \"52380795257888236525459303330302837\"\n",
      "El segmento de datos 5 es \"58495327135744041048897885734297812\"\n",
      "El segmento de datos 6 es \"69920216438980873548808413720956532\"\n",
      "El segmento de datos 7 es \"16278424637452589860345374828574668\"\n",
      "Segmento 1 procesado, resultado=157\n",
      "Segmento 0 procesado, resultado=187\n",
      "Segmento 4 procesado, resultado=153\n",
      "Segmento 5 procesado, resultado=172\n",
      "Segmento 6 procesado, resultado=165\n",
      "Segmento 7 procesado, resultado=177\n",
      "Segmento 3 procesado, resultado=177\n",
      "Segmento 2 procesado, resultado=154\n",
      "Resultado final de la suma: 1342\n"
     ]
    }
   ],
   "source": [
    "use std::thread;\n",
    "\n",
    "// Este es el hilo `main`\n",
    "fn main() {\n",
    "\n",
    "    // Estos son nuestros datos para procesar.\n",
    "    // Calcularemos la suma de todos los dígitos a través de un algoritmo map-reduce en threads.\n",
    "    // Cada segmento separado por espacios en blanco será manejado en un hilo diferente.\n",
    "    //\n",
    "    // TODO: ¡mira qué sucede con la salida si insertas espacios!\n",
    "    let data = \"86967897737416471853297327050364959\n",
    "                11861322575564723963297542624962850\n",
    "                70856234701860851907960690014725639\n",
    "                38397966707106094172783238747669219\n",
    "                52380795257888236525459303330302837\n",
    "                58495327135744041048897885734297812\n",
    "                69920216438980873548808413720956532\n",
    "                16278424637452589860345374828574668\";\n",
    "\n",
    "    // Creamos un vector para almacenar los hilos hijos que crearemos.\n",
    "    let mut children = vec![];\n",
    "\n",
    "    /*************************************************************************\n",
    "     * Fase \"Map\"\n",
    "     *\n",
    "     * Dividimos nuestros datos en segmentos y aplicamos un procesamiento inicial\n",
    "     ************************************************************************/\n",
    "\n",
    "    // Dividimos nuestros datos en segmentos para su cálculo individual\n",
    "    // cada trozo será una referencia (&str) a los datos reales\n",
    "    let chunked_data = data.split_whitespace();\n",
    "\n",
    "    // Iteramos sobre los segmentos de datos.\n",
    "    // .enumerate() agrega el índice actual al valor iterado\n",
    "    // la tupla resultante \"(índice, elemento)\" se desestructura inmediatamente\n",
    "    // en dos variables, \"i\" y \"data_segment\" con una \"asignación por desestructuración\"\n",
    "    for (i, data_segment) in chunked_data.enumerate() {\n",
    "        println!(\"El segmento de datos {} es \\\"{}\\\"\", i, data_segment);\n",
    "\n",
    "        // Procesamos cada segmento de datos en un hilo separado\n",
    "        //\n",
    "        // spawn() devuelve un manejador al nuevo hilo,\n",
    "        // que DEBEMOS mantener para acceder al valor devuelto\n",
    "        //\n",
    "        // 'move || -> u32' es la sintaxis para un cierre que:\n",
    "        // * no toma argumentos ('||')\n",
    "        // * toma posesión de sus variables capturadas ('move') y\n",
    "        // * devuelve un entero sin signo de 32 bits ('-> u32')\n",
    "        //\n",
    "        // Rust es lo suficientemente inteligente como para inferir el '-> u32' desde\n",
    "        // el cierre en sí, por lo que podríamos haberlo omitido.\n",
    "        //\n",
    "        // TODO: prueba quitar el 'move' y observa qué sucede\n",
    "        children.push(thread::spawn(move || -> u32 {\n",
    "            // Calculamos la suma intermedia de este segmento:\n",
    "            let resultado = data_segment\n",
    "                            // iteramos sobre los caracteres de nuestro segmento..\n",
    "                            .chars()\n",
    "                            // .. convertimos los caracteres de texto a su valor numérico..\n",
    "                            .map(|c| c.to_digit(10).expect(\"debería ser un dígito\"))\n",
    "                            // .. y sumamos el iterador resultante de números\n",
    "                            .sum();\n",
    "\n",
    "            // println! bloquea stdout, por lo que no se produce entrelazamiento de texto\n",
    "            println!(\"Segmento {} procesado, resultado={}\", i, resultado);\n",
    "\n",
    "            // \"return\" no es necesario, porque Rust es un \"lenguaje de expresiones\", la\n",
    "            // última expresión evaluada en cada bloque es automáticamente su valor.\n",
    "            resultado\n",
    "        }\n",
    "        ));\n",
    "    }\n",
    "\n",
    "\n",
    "    /*************************************************************************\n",
    "     * Fase \"Reduce\"\n",
    "     *\n",
    "     * Recolectamos nuestros resultados intermedios y los combinamos en un resultado final\n",
    "     ************************************************************************/\n",
    "\n",
    "    // combinamos los resultados intermedios de cada hilo en una sola suma final.\n",
    "    //\n",
    "    // usamos el \"turbofish\" ::<> para proporcionar a sum() una sugerencia de tipo.\n",
    "    //\n",
    "    // TODO: prueba sin el \"turbofish\", especificando explícitamente\n",
    "    // el tipo de final_result\n",
    "    let final_result = children.into_iter().map(|c| c.join().unwrap()).sum::<u32>();\n",
    "\n",
    "    println!(\"Resultado final de la suma: {}\", final_result);\n",
    "}\n",
    "main();"
   ]
  },
  {
   "cell_type": "code",
   "execution_count": null,
   "id": "2efc5f8d",
   "metadata": {},
   "outputs": [],
   "source": []
  }
 ],
 "metadata": {
  "kernelspec": {
   "display_name": "Rust",
   "language": "rust",
   "name": "rust"
  },
  "language_info": {
   "codemirror_mode": "rust",
   "file_extension": ".rs",
   "mimetype": "text/rust",
   "name": "Rust",
   "pygment_lexer": "rust",
   "version": ""
  }
 },
 "nbformat": 4,
 "nbformat_minor": 5
}
